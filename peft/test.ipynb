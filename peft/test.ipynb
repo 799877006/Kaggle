{
 "cells": [
  {
   "cell_type": "code",
   "execution_count": 1,
   "metadata": {},
   "outputs": [],
   "source": [
    "import pandas as pd\n",
    "\n",
    "df = pd.read_csv('dataset/chinese_qa_train.csv')\n"
   ]
  },
  {
   "cell_type": "code",
   "execution_count": 2,
   "metadata": {},
   "outputs": [],
   "source": [
    "df.dropna(inplace=True)\n"
   ]
  },
  {
   "cell_type": "code",
   "execution_count": 3,
   "metadata": {},
   "outputs": [],
   "source": [
    "df.reset_index(drop=True,inplace=True)"
   ]
  },
  {
   "cell_type": "code",
   "execution_count": 4,
   "metadata": {},
   "outputs": [
    {
     "data": {
      "text/html": [
       "<div>\n",
       "<style scoped>\n",
       "    .dataframe tbody tr th:only-of-type {\n",
       "        vertical-align: middle;\n",
       "    }\n",
       "\n",
       "    .dataframe tbody tr th {\n",
       "        vertical-align: top;\n",
       "    }\n",
       "\n",
       "    .dataframe thead th {\n",
       "        text-align: right;\n",
       "    }\n",
       "</style>\n",
       "<table border=\"1\" class=\"dataframe\">\n",
       "  <thead>\n",
       "    <tr style=\"text-align: right;\">\n",
       "      <th></th>\n",
       "      <th>question</th>\n",
       "      <th>answer</th>\n",
       "    </tr>\n",
       "  </thead>\n",
       "  <tbody>\n",
       "    <tr>\n",
       "      <th>0</th>\n",
       "      <td>哪位在美国出生的辛克莱于 1930 年获得了诺贝尔文学奖？</td>\n",
       "      <td>辛克莱·刘易斯</td>\n",
       "    </tr>\n",
       "    <tr>\n",
       "      <th>1</th>\n",
       "      <td>朱迪·丹奇女爵在英格兰的哪里出生？</td>\n",
       "      <td>约克</td>\n",
       "    </tr>\n",
       "    <tr>\n",
       "      <th>2</th>\n",
       "      <td>公告牌杂志首次出版美国热门排行榜是在哪个十年？</td>\n",
       "      <td>30 秒</td>\n",
       "    </tr>\n",
       "    <tr>\n",
       "      <th>3</th>\n",
       "      <td>安哥拉在 1975 年从哪个国家获得独立？</td>\n",
       "      <td>葡萄牙</td>\n",
       "    </tr>\n",
       "    <tr>\n",
       "      <th>4</th>\n",
       "      <td>大卫·索尔来自哪个城市？</td>\n",
       "      <td>芝加哥</td>\n",
       "    </tr>\n",
       "    <tr>\n",
       "      <th>...</th>\n",
       "      <td>...</td>\n",
       "      <td>...</td>\n",
       "    </tr>\n",
       "    <tr>\n",
       "      <th>1232</th>\n",
       "      <td>《滑稽女郎》的主题是哪个范妮？</td>\n",
       "      <td>《滑稽女郎》的主角芬妮是布赖斯。</td>\n",
       "    </tr>\n",
       "    <tr>\n",
       "      <th>1233</th>\n",
       "      <td>谁是在《悲惨世界》中第一个在皇家莎士比亚剧团担任主要角色的美国女演员？</td>\n",
       "      <td>帕蒂·卢波恩</td>\n",
       "    </tr>\n",
       "    <tr>\n",
       "      <th>1234</th>\n",
       "      <td>1960 年，莱纳和洛伊的最后一部主要成功的音乐剧是哪一部？</td>\n",
       "      <td>《卡美洛》</td>\n",
       "    </tr>\n",
       "    <tr>\n",
       "      <th>1235</th>\n",
       "      <td>哪首 90 年代复兴热门歌曲与一个黑帮城市同名？</td>\n",
       "      <td>《芝加哥》（Chicago）这个 90 年代复兴的热门作品与一个黑帮城市同名。</td>\n",
       "    </tr>\n",
       "    <tr>\n",
       "      <th>1236</th>\n",
       "      <td>哪位歌手的本名是迈克尔·巴拉特？</td>\n",
       "      <td>沙金·史蒂文斯</td>\n",
       "    </tr>\n",
       "  </tbody>\n",
       "</table>\n",
       "<p>1237 rows × 2 columns</p>\n",
       "</div>"
      ],
      "text/plain": [
       "                                 question  \\\n",
       "0           哪位在美国出生的辛克莱于 1930 年获得了诺贝尔文学奖？   \n",
       "1                       朱迪·丹奇女爵在英格兰的哪里出生？   \n",
       "2                 公告牌杂志首次出版美国热门排行榜是在哪个十年？   \n",
       "3                   安哥拉在 1975 年从哪个国家获得独立？   \n",
       "4                            大卫·索尔来自哪个城市？   \n",
       "...                                   ...   \n",
       "1232                      《滑稽女郎》的主题是哪个范妮？   \n",
       "1233  谁是在《悲惨世界》中第一个在皇家莎士比亚剧团担任主要角色的美国女演员？   \n",
       "1234       1960 年，莱纳和洛伊的最后一部主要成功的音乐剧是哪一部？   \n",
       "1235             哪首 90 年代复兴热门歌曲与一个黑帮城市同名？   \n",
       "1236                     哪位歌手的本名是迈克尔·巴拉特？   \n",
       "\n",
       "                                       answer  \n",
       "0                                     辛克莱·刘易斯  \n",
       "1                                          约克  \n",
       "2                                        30 秒  \n",
       "3                                         葡萄牙  \n",
       "4                                         芝加哥  \n",
       "...                                       ...  \n",
       "1232                         《滑稽女郎》的主角芬妮是布赖斯。  \n",
       "1233                                   帕蒂·卢波恩  \n",
       "1234                                    《卡美洛》  \n",
       "1235  《芝加哥》（Chicago）这个 90 年代复兴的热门作品与一个黑帮城市同名。  \n",
       "1236                                  沙金·史蒂文斯  \n",
       "\n",
       "[1237 rows x 2 columns]"
      ]
     },
     "execution_count": 4,
     "metadata": {},
     "output_type": "execute_result"
    }
   ],
   "source": [
    "df"
   ]
  },
  {
   "cell_type": "code",
   "execution_count": 5,
   "metadata": {},
   "outputs": [],
   "source": [
    "df.to_csv('dataset/chinese_qa_train_clean.csv',index=False)"
   ]
  }
 ],
 "metadata": {
  "kernelspec": {
   "display_name": "gemma2",
   "language": "python",
   "name": "python3"
  },
  "language_info": {
   "codemirror_mode": {
    "name": "ipython",
    "version": 3
   },
   "file_extension": ".py",
   "mimetype": "text/x-python",
   "name": "python",
   "nbconvert_exporter": "python",
   "pygments_lexer": "ipython3",
   "version": "3.11.11"
  }
 },
 "nbformat": 4,
 "nbformat_minor": 2
}
