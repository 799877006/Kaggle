{
 "cells": [
  {
   "cell_type": "code",
   "execution_count": 1,
   "metadata": {},
   "outputs": [],
   "source": [
    "import pandas as pd\n",
    "\n",
    "df = pd.read_csv('/home/yangrumei/Kaggle/dataset/chinese_qa_train.csv')\n"
   ]
  },
  {
   "cell_type": "code",
   "execution_count": 2,
   "metadata": {},
   "outputs": [],
   "source": [
    "df.dropna(inplace=True)\n"
   ]
  },
  {
   "cell_type": "code",
   "execution_count": 3,
   "metadata": {},
   "outputs": [],
   "source": [
    "df.reset_index(drop=True,inplace=True)"
   ]
  },
  {
   "cell_type": "code",
   "execution_count": 4,
   "metadata": {},
   "outputs": [
    {
     "data": {
      "text/html": [
       "<div>\n",
       "<style scoped>\n",
       "    .dataframe tbody tr th:only-of-type {\n",
       "        vertical-align: middle;\n",
       "    }\n",
       "\n",
       "    .dataframe tbody tr th {\n",
       "        vertical-align: top;\n",
       "    }\n",
       "\n",
       "    .dataframe thead th {\n",
       "        text-align: right;\n",
       "    }\n",
       "</style>\n",
       "<table border=\"1\" class=\"dataframe\">\n",
       "  <thead>\n",
       "    <tr style=\"text-align: right;\">\n",
       "      <th></th>\n",
       "      <th>question</th>\n",
       "      <th>answer</th>\n",
       "    </tr>\n",
       "  </thead>\n",
       "  <tbody>\n",
       "    <tr>\n",
       "      <th>0</th>\n",
       "      <td>哪位在美国出生的辛克莱于 1930 年获得了诺贝尔文学奖？</td>\n",
       "      <td>辛克莱·刘易斯</td>\n",
       "    </tr>\n",
       "    <tr>\n",
       "      <th>1</th>\n",
       "      <td>朱迪·丹奇女爵在英格兰的哪里出生？</td>\n",
       "      <td>约克</td>\n",
       "    </tr>\n",
       "    <tr>\n",
       "      <th>2</th>\n",
       "      <td>公告牌杂志首次出版美国热门排行榜是在哪个十年？</td>\n",
       "      <td>30 秒</td>\n",
       "    </tr>\n",
       "    <tr>\n",
       "      <th>3</th>\n",
       "      <td>安哥拉在 1975 年从哪个国家获得独立？</td>\n",
       "      <td>葡萄牙</td>\n",
       "    </tr>\n",
       "    <tr>\n",
       "      <th>4</th>\n",
       "      <td>大卫·索尔来自哪个城市？</td>\n",
       "      <td>芝加哥</td>\n",
       "    </tr>\n",
       "    <tr>\n",
       "      <th>...</th>\n",
       "      <td>...</td>\n",
       "      <td>...</td>\n",
       "    </tr>\n",
       "    <tr>\n",
       "      <th>33587</th>\n",
       "      <td>马丁·斯科塞斯 2008 年关于滚石乐队的纪录片叫什么名字？</td>\n",
       "      <td>闪耀光芒</td>\n",
       "    </tr>\n",
       "    <tr>\n",
       "      <th>33588</th>\n",
       "      <td>谁于1812年在朴次茅斯附近出生，童年在查塔姆和伦敦度过，1836年与凯瑟琳·霍加斯结婚，1...</td>\n",
       "      <td>查尔斯·狄更斯</td>\n",
       "    </tr>\n",
       "    <tr>\n",
       "      <th>33589</th>\n",
       "      <td>美国队在印第安纳波利斯举行的 2002 年男篮世锦赛上获得了第几名？</td>\n",
       "      <td>阿根廷队。</td>\n",
       "    </tr>\n",
       "    <tr>\n",
       "      <th>33590</th>\n",
       "      <td>比吉斯组合中的哪两个吉布兄弟是双胞胎？</td>\n",
       "      <td>罗宾和莫里斯</td>\n",
       "    </tr>\n",
       "    <tr>\n",
       "      <th>33591</th>\n",
       "      <td>目前俄罗斯东正教会的基督教新年在西方公历中的日期是哪天？</td>\n",
       "      <td>1月14日</td>\n",
       "    </tr>\n",
       "  </tbody>\n",
       "</table>\n",
       "<p>33592 rows × 2 columns</p>\n",
       "</div>"
      ],
      "text/plain": [
       "                                                question   answer\n",
       "0                          哪位在美国出生的辛克莱于 1930 年获得了诺贝尔文学奖？  辛克莱·刘易斯\n",
       "1                                      朱迪·丹奇女爵在英格兰的哪里出生？       约克\n",
       "2                                公告牌杂志首次出版美国热门排行榜是在哪个十年？     30 秒\n",
       "3                                  安哥拉在 1975 年从哪个国家获得独立？      葡萄牙\n",
       "4                                           大卫·索尔来自哪个城市？      芝加哥\n",
       "...                                                  ...      ...\n",
       "33587                     马丁·斯科塞斯 2008 年关于滚石乐队的纪录片叫什么名字？     闪耀光芒\n",
       "33588  谁于1812年在朴次茅斯附近出生，童年在查塔姆和伦敦度过，1836年与凯瑟琳·霍加斯结婚，1...  查尔斯·狄更斯\n",
       "33589                 美国队在印第安纳波利斯举行的 2002 年男篮世锦赛上获得了第几名？    阿根廷队。\n",
       "33590                                比吉斯组合中的哪两个吉布兄弟是双胞胎？   罗宾和莫里斯\n",
       "33591                       目前俄罗斯东正教会的基督教新年在西方公历中的日期是哪天？    1月14日\n",
       "\n",
       "[33592 rows x 2 columns]"
      ]
     },
     "execution_count": 4,
     "metadata": {},
     "output_type": "execute_result"
    }
   ],
   "source": [
    "df"
   ]
  },
  {
   "cell_type": "code",
   "execution_count": 5,
   "metadata": {},
   "outputs": [],
   "source": [
    "df.to_csv('/home/yangrumei/Kaggle/dataset/chinese_qa_train.csv',index=False)"
   ]
  }
 ],
 "metadata": {
  "kernelspec": {
   "display_name": "gemma2",
   "language": "python",
   "name": "python3"
  },
  "language_info": {
   "codemirror_mode": {
    "name": "ipython",
    "version": 3
   },
   "file_extension": ".py",
   "mimetype": "text/x-python",
   "name": "python",
   "nbconvert_exporter": "python",
   "pygments_lexer": "ipython3",
   "version": "3.11.11"
  }
 },
 "nbformat": 4,
 "nbformat_minor": 2
}
