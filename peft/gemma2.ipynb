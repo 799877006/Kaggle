{
 "cells": [
  {
   "cell_type": "code",
   "execution_count": 1,
   "metadata": {},
   "outputs": [
    {
     "name": "stderr",
     "output_type": "stream",
     "text": [
      "/home/yangrumei/miniconda3/envs/gemma2/lib/python3.11/site-packages/tqdm/auto.py:21: TqdmWarning: IProgress not found. Please update jupyter and ipywidgets. See https://ipywidgets.readthedocs.io/en/stable/user_install.html\n",
      "  from .autonotebook import tqdm as notebook_tqdm\n",
      "Loading checkpoint shards: 100%|██████████| 4/4 [00:03<00:00,  1.27it/s]\n"
     ]
    }
   ],
   "source": [
    "from transformers import AutoTokenizer, AutoModelForCausalLM\n",
    "import torch\n",
    "\n",
    "tokenizer = AutoTokenizer.from_pretrained(\"google/gemma-2-9b-it\")\n",
    "model = AutoModelForCausalLM.from_pretrained(\n",
    "    \"google/gemma-2-9b-it\",\n",
    "    device_map=\"auto\",\n",
    "    torch_dtype=torch.bfloat16,\n",
    ")\n"
   ]
  },
  {
   "cell_type": "code",
   "execution_count": 4,
   "metadata": {},
   "outputs": [
    {
     "data": {
      "text/plain": [
       "1000000000000000019884624838656"
      ]
     },
     "execution_count": 4,
     "metadata": {},
     "output_type": "execute_result"
    }
   ],
   "source": [
    "tokenizer.model_max_length"
   ]
  },
  {
   "cell_type": "code",
   "execution_count": 2,
   "metadata": {},
   "outputs": [
    {
     "name": "stdout",
     "output_type": "stream",
     "text": [
      "<bos>中国最好的大学是哪一所？\n",
      "\n",
      "这个问题没有一个绝对的答案，因为“最好”的定义因人而异。\n",
      "\n",
      "**不同的排名机构使用不同的标准，侧重于不同的方面，例如：**\n",
      "\n",
      "* **学术声誉:**  QS世界大学排名、泰晤士高等教育世界大学排名等\n",
      "* **研究实力:**  自然指数、美国新闻与世界报道大学排名等\n",
      "* **就业前景:**  金融时报全球MBA排名等\n",
      "* **师资力量:**  师资力量、科研成果等\n",
      "\n",
      "**一些在中国和国际上都享有盛誉的大学包括：**\n",
      "\n",
      "* **清华大学:**  以工程、理学和计算机科学闻名\n",
      "* **北京大学:**  以人文、社会科学和法学闻名\n",
      "* **复旦大学:**  以理学、医学和管理学闻名\n",
      "* **上海交通大学:**  以工程、理学和管理学闻名\n",
      "* **浙江大学:**  以理学、工学和农业科学闻名\n",
      "\n",
      "**最终选择哪所大学取决于你的个人兴趣、目标和需求。** 建议你参考多个排名机构的排名，并深入了解不同大学的专业设置、师资力量、科研成果、校园文化等方面的信息，以便做出最适合自己的选择。\n",
      "\n",
      "\n",
      "<end_of_turn><eos>\n"
     ]
    }
   ],
   "source": [
    "input_text = \"中国最好的大学是哪一所\"\n",
    "input_ids = tokenizer(input_text, return_tensors=\"pt\").to(\"cuda\")\n",
    "\n",
    "outputs = model.generate(**input_ids, max_new_tokens=1000)\n",
    "print(tokenizer.decode(outputs[0]))"
   ]
  }
 ],
 "metadata": {
  "kernelspec": {
   "display_name": "gemma2",
   "language": "python",
   "name": "python3"
  },
  "language_info": {
   "codemirror_mode": {
    "name": "ipython",
    "version": 3
   },
   "file_extension": ".py",
   "mimetype": "text/x-python",
   "name": "python",
   "nbconvert_exporter": "python",
   "pygments_lexer": "ipython3",
   "version": "3.11.11"
  }
 },
 "nbformat": 4,
 "nbformat_minor": 2
}
