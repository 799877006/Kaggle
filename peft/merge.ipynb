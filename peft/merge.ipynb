{
 "cells": [
  {
   "cell_type": "code",
   "execution_count": 3,
   "metadata": {},
   "outputs": [
    {
     "name": "stderr",
     "output_type": "stream",
     "text": [
      "Loading checkpoint shards: 100%|██████████| 4/4 [00:03<00:00,  1.19it/s]\n"
     ]
    },
    {
     "data": {
      "text/plain": [
       "('models/merged_models/gemma-2-9b-it-qlora-content1024_18954/tokenizer_config.json',\n",
       " 'models/merged_models/gemma-2-9b-it-qlora-content1024_18954/special_tokens_map.json',\n",
       " 'models/merged_models/gemma-2-9b-it-qlora-content1024_18954/tokenizer.model',\n",
       " 'models/merged_models/gemma-2-9b-it-qlora-content1024_18954/added_tokens.json',\n",
       " 'models/merged_models/gemma-2-9b-it-qlora-content1024_18954/tokenizer.json')"
      ]
     },
     "execution_count": 3,
     "metadata": {},
     "output_type": "execute_result"
    }
   ],
   "source": [
    "import torch\n",
    "from transformers import AutoModelForCausalLM, AutoTokenizer\n",
    "from peft import PeftModel\n",
    "\n",
    "\n",
    "model_id = \"google/gemma-2-9b-it\"\n",
    "model_path = \"models/cleaned/gemma-2-9b-it-qlora-content1024/checkpoint-18954\"\n",
    "\n",
    "tokenizer = AutoTokenizer.from_pretrained(model_id)\n",
    "base_model = AutoModelForCausalLM.from_pretrained(\n",
    "    model_id,\n",
    "    low_cpu_mem_usage=True,\n",
    "    return_dict=True,\n",
    "    torch_dtype=torch.bfloat16,\n",
    "    device_map={\"\": 0},\n",
    ")\n",
    "model = PeftModel.from_pretrained(base_model, model_path)\n",
    "merged_model = model.merge_and_unload()\n",
    "\n",
    "# Save the merged model\n",
    "merged_model.save_pretrained(\"models/merged_models/gemma-2-9b-it-qlora-content1024_18954\")\n",
    "tokenizer.save_pretrained(\"models/merged_models/gemma-2-9b-it-qlora-content1024_18954\")\n"
   ]
  }
 ],
 "metadata": {
  "kernelspec": {
   "display_name": "gemma2",
   "language": "python",
   "name": "python3"
  },
  "language_info": {
   "codemirror_mode": {
    "name": "ipython",
    "version": 3
   },
   "file_extension": ".py",
   "mimetype": "text/x-python",
   "name": "python",
   "nbconvert_exporter": "python",
   "pygments_lexer": "ipython3",
   "version": "3.11.11"
  }
 },
 "nbformat": 4,
 "nbformat_minor": 2
}
